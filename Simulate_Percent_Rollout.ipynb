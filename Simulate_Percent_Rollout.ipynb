{
 "cells": [
  {
   "cell_type": "code",
   "execution_count": 141,
   "metadata": {},
   "outputs": [],
   "source": [
    "import ldclient\n",
    "from ldclient import Context\n",
    "from ldclient.config import Config\n",
    "from faker import Faker\n",
    "from uuid import uuid4\n",
    "from faker.providers import DynamicProvider \n",
    "import time\n",
    "import random\n",
    "import pandas as pd\n",
    "import numpy as np\n",
    "import matplotlib.pyplot as plt\n",
    "import json\n"
   ]
  },
  {
   "cell_type": "code",
   "execution_count": 142,
   "metadata": {},
   "outputs": [],
   "source": [
    "sdk_key = 'sdk-c6b1251d-06e7-4efd-9486-2c51570cc5d3'\n",
    "config = Config(sdk_key = sdk_key, http=ldclient.config.HTTPConfig(connect_timeout=5))\n",
    "ldclient.set_config(config)\n",
    "client = ldclient.get()"
   ]
  },
  {
   "cell_type": "code",
   "execution_count": 143,
   "metadata": {},
   "outputs": [],
   "source": [
    "brands_provider  = DynamicProvider(\n",
    "     provider_name=\"brand\",\n",
    "     elements=[\"Admiral\", \"Diamond\", \"Elephant\", \"Toothbrush\", \"Biscuit\"],\n",
    ")\n",
    "\n",
    "product_provider = DynamicProvider(\n",
    "    provider_name=\"product\",\n",
    "    elements=[\"Car\", \"Home\", \"Motorcycle\", \"Renters\"],\n",
    ")\n",
    "\n",
    "price_provider = DynamicProvider(\n",
    "    provider_name=\"example_in_cart_price\",\n",
    "    elements=[93.84, 143.73, 101.35, 86.02, 46.91, 125.62, 77.85, 99.68, 73.99, 148.79],\n",
    ")\n",
    "\n",
    "\n",
    "tier_provider = DynamicProvider(\n",
    "    provider_name=\"tier\",\n",
    "    elements=[\"Bronze\", \"Silver\", \"Gold\"],\n",
    ")\n",
    "\n",
    "\n",
    "\n",
    "fake = Faker()\n",
    "fake.add_provider(brands_provider)\n",
    "fake.add_provider(price_provider)\n",
    "fake.add_provider(product_provider)\n",
    "fake.add_provider(tier_provider)"
   ]
  },
  {
   "cell_type": "markdown",
   "metadata": {},
   "source": [
    "# This is the start of some work on the Percentage Rollout stuff"
   ]
  },
  {
   "cell_type": "code",
   "execution_count": 144,
   "metadata": {},
   "outputs": [],
   "source": [
    "num_records = 100\n",
    "i = 0\n",
    "controlProb = 0.3\n",
    "treatmentProb = 0.35\n",
    "useProb = 0\n",
    "fakeUserId2 = []\n",
    "user2Brand = [] \n",
    "user2Price = []\n",
    "user2Product = []\n",
    "user2Tier = []\n",
    "\n",
    "while i <= num_records :\n",
    "    fakeUserId2.append(fake.uuid4())\n",
    "    user2Brand.append(fake.brand())\n",
    "    user2Price.append(fake.example_in_cart_price())\n",
    "    user2Product.append(fake.product())\n",
    "    user2Tier.append(fake.tier())\n",
    "    i = i+1"
   ]
  },
  {
   "cell_type": "code",
   "execution_count": 145,
   "metadata": {},
   "outputs": [],
   "source": [
    "i = 0\n",
    "run1 = []\n",
    "run1_control = []\n",
    "run1_treatment = []\n",
    "run1_keys = []\n",
    "\n",
    "while i <= num_records :\n",
    "\n",
    "    user2_context = Context.builder(fakeUserId2[i]).kind(\"user\").set(\"brand\", user2Brand[i]).set(\"product\", user2Product[i]).set(\"tier\", user2Tier[i]).build()\n",
    "    variation_detail = client.variation_detail(\"example-percentage-rollout-flag\", user2_context, 'false')\n",
    "    run1_keys.append(user2_context.key)\n",
    "    if (variation_detail.value == \"Control\"):\n",
    "        run1_control.append(user2_context.key)\n",
    "    else:\n",
    "        run1_treatment.append(user2_context.key)\n",
    "    time.sleep(0.01)\n",
    "    run1.append(variation_detail)\n",
    "    i = i+1"
   ]
  },
  {
   "cell_type": "markdown",
   "metadata": {},
   "source": [
    "# Here is where you should go and make a change to the percentage rollout"
   ]
  },
  {
   "cell_type": "code",
   "execution_count": 146,
   "metadata": {},
   "outputs": [],
   "source": [
    "i = 0\n",
    "run2 = []\n",
    "run2_control = []\n",
    "run2_treatment = []\n",
    "run2_keys = []\n",
    "\n",
    "while i <= num_records :\n",
    "\n",
    "    user2_context = Context.builder(fakeUserId2[i]).kind(\"user\").set(\"brand\", user2Brand[i]).set(\"product\", user2Product[i]).set(\"tier\", user2Tier[i]).build()\n",
    "    variation_detail = client.variation_detail(\"example-percentage-rollout-flag\", user2_context, 'false')\n",
    "    run2_keys.append(user2_context.key)\n",
    "    if (variation_detail.value == \"Control\"):\n",
    "        run2_control.append(user2_context.key)\n",
    "    else:\n",
    "        run2_treatment.append(user2_context.key)\n",
    "    time.sleep(0.01)\n",
    "    run2.append(variation_detail)\n",
    "    i = i+1"
   ]
  },
  {
   "cell_type": "code",
   "execution_count": 147,
   "metadata": {},
   "outputs": [
    {
     "name": "stdout",
     "output_type": "stream",
     "text": [
      "23\n"
     ]
    }
   ],
   "source": [
    "i=0\n",
    "mismatchCount = 0\n",
    "while i <= num_records : \n",
    "   if (run1[i] != run2[i]):\n",
    "      mismatchCount+=1\n",
    "   i+=1   \n",
    "print(mismatchCount)\n",
    "#print(\"Run 1: Control: \", run1_control, \"Treatment: \", run1_treatment)\n",
    "#print(\"Run 2: Control: \", run2_control, \"Treatment: \", run2_treatment)"
   ]
  },
  {
   "cell_type": "code",
   "execution_count": 148,
   "metadata": {},
   "outputs": [],
   "source": [
    "def parse_string_to_dict(item):\n",
    "    # Remove surrounding parentheses and split by commas\n",
    "    clean_item = item.strip(\"()\")\n",
    "    key_value_pairs = clean_item.split(\", \")\n",
    "    \n",
    "    # Convert key-value pairs into a dictionary\n",
    "    parsed_dict = {}\n",
    "    for pair in key_value_pairs:\n",
    "        key, value = pair.split(\"=\")  # Split by '='\n",
    "        parsed_dict[key.strip()] = value.strip()\n",
    "    \n",
    "    return parsed_dict"
   ]
  },
  {
   "cell_type": "code",
   "execution_count": 149,
   "metadata": {},
   "outputs": [],
   "source": [
    "run1_parsed_data = [parse_string_to_dict(str(item)) for item in run1]\n",
    "run2_parsed_data = [parse_string_to_dict(str(item)) for item in run2]\n"
   ]
  },
  {
   "cell_type": "code",
   "execution_count": 150,
   "metadata": {},
   "outputs": [],
   "source": [
    "run1_df = pd.DataFrame(run1_parsed_data)\n",
    "run2_df = pd.DataFrame(run2_parsed_data)\n",
    "keys_df = pd.DataFrame(run1_keys, columns=['key'])\n",
    "run1_df['key'] = keys_df['key']\n",
    "run2_df['key'] = keys_df['key']\n",
    "result = pd.merge(run1_df, run2_df, on='key')"
   ]
  },
  {
   "cell_type": "code",
   "execution_count": 151,
   "metadata": {},
   "outputs": [
    {
     "data": {
      "text/html": [
       "<div>\n",
       "<style scoped>\n",
       "    .dataframe tbody tr th:only-of-type {\n",
       "        vertical-align: middle;\n",
       "    }\n",
       "\n",
       "    .dataframe tbody tr th {\n",
       "        vertical-align: top;\n",
       "    }\n",
       "\n",
       "    .dataframe thead th {\n",
       "        text-align: right;\n",
       "    }\n",
       "</style>\n",
       "<table border=\"1\" class=\"dataframe\">\n",
       "  <thead>\n",
       "    <tr style=\"text-align: right;\">\n",
       "      <th></th>\n",
       "      <th>key</th>\n",
       "      <th>value_x</th>\n",
       "      <th>value_y</th>\n",
       "    </tr>\n",
       "  </thead>\n",
       "  <tbody>\n",
       "    <tr>\n",
       "      <th>0</th>\n",
       "      <td>4aaf5bbb-e4f6-414f-b484-ee2b7bfbd90e</td>\n",
       "      <td>Control</td>\n",
       "      <td>Treatment</td>\n",
       "    </tr>\n",
       "    <tr>\n",
       "      <th>1</th>\n",
       "      <td>cbff163e-7260-4f28-9080-a0e515eaf184</td>\n",
       "      <td>Treatment</td>\n",
       "      <td>Treatment</td>\n",
       "    </tr>\n",
       "    <tr>\n",
       "      <th>2</th>\n",
       "      <td>9e1d5e01-d947-49fd-bdaf-ad0d6b1efba5</td>\n",
       "      <td>Control</td>\n",
       "      <td>Control</td>\n",
       "    </tr>\n",
       "    <tr>\n",
       "      <th>3</th>\n",
       "      <td>60712106-7353-4f69-a6eb-39788ef4eb1b</td>\n",
       "      <td>Control</td>\n",
       "      <td>Treatment</td>\n",
       "    </tr>\n",
       "    <tr>\n",
       "      <th>4</th>\n",
       "      <td>f833b033-6742-41df-bb22-a020ecb472c1</td>\n",
       "      <td>Control</td>\n",
       "      <td>Control</td>\n",
       "    </tr>\n",
       "    <tr>\n",
       "      <th>...</th>\n",
       "      <td>...</td>\n",
       "      <td>...</td>\n",
       "      <td>...</td>\n",
       "    </tr>\n",
       "    <tr>\n",
       "      <th>96</th>\n",
       "      <td>bf241f52-b719-4fdb-a826-503cda9b7963</td>\n",
       "      <td>Control</td>\n",
       "      <td>Control</td>\n",
       "    </tr>\n",
       "    <tr>\n",
       "      <th>97</th>\n",
       "      <td>164cc8bd-be89-40a7-a267-672eca46870d</td>\n",
       "      <td>Treatment</td>\n",
       "      <td>Treatment</td>\n",
       "    </tr>\n",
       "    <tr>\n",
       "      <th>98</th>\n",
       "      <td>b83e83b2-b7b4-41c4-8633-0fe0c39b40bc</td>\n",
       "      <td>Treatment</td>\n",
       "      <td>Treatment</td>\n",
       "    </tr>\n",
       "    <tr>\n",
       "      <th>99</th>\n",
       "      <td>ea38bebc-2907-4aea-97c8-7ea51a2e0459</td>\n",
       "      <td>Treatment</td>\n",
       "      <td>Treatment</td>\n",
       "    </tr>\n",
       "    <tr>\n",
       "      <th>100</th>\n",
       "      <td>b803a650-2829-4ef0-bd90-8053797d0706</td>\n",
       "      <td>Treatment</td>\n",
       "      <td>Treatment</td>\n",
       "    </tr>\n",
       "  </tbody>\n",
       "</table>\n",
       "<p>101 rows × 3 columns</p>\n",
       "</div>"
      ],
      "text/plain": [
       "                                      key    value_x    value_y\n",
       "0    4aaf5bbb-e4f6-414f-b484-ee2b7bfbd90e    Control  Treatment\n",
       "1    cbff163e-7260-4f28-9080-a0e515eaf184  Treatment  Treatment\n",
       "2    9e1d5e01-d947-49fd-bdaf-ad0d6b1efba5    Control    Control\n",
       "3    60712106-7353-4f69-a6eb-39788ef4eb1b    Control  Treatment\n",
       "4    f833b033-6742-41df-bb22-a020ecb472c1    Control    Control\n",
       "..                                    ...        ...        ...\n",
       "96   bf241f52-b719-4fdb-a826-503cda9b7963    Control    Control\n",
       "97   164cc8bd-be89-40a7-a267-672eca46870d  Treatment  Treatment\n",
       "98   b83e83b2-b7b4-41c4-8633-0fe0c39b40bc  Treatment  Treatment\n",
       "99   ea38bebc-2907-4aea-97c8-7ea51a2e0459  Treatment  Treatment\n",
       "100  b803a650-2829-4ef0-bd90-8053797d0706  Treatment  Treatment\n",
       "\n",
       "[101 rows x 3 columns]"
      ]
     },
     "execution_count": 151,
     "metadata": {},
     "output_type": "execute_result"
    }
   ],
   "source": [
    "result[['key','value_x', 'value_y']]"
   ]
  }
 ],
 "metadata": {
  "kernelspec": {
   "display_name": "Python 3",
   "language": "python",
   "name": "python3"
  },
  "language_info": {
   "codemirror_mode": {
    "name": "ipython",
    "version": 3
   },
   "file_extension": ".py",
   "mimetype": "text/x-python",
   "name": "python",
   "nbconvert_exporter": "python",
   "pygments_lexer": "ipython3",
   "version": "3.9.6"
  }
 },
 "nbformat": 4,
 "nbformat_minor": 2
}
