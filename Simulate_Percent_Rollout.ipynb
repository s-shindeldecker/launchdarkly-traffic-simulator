{
 "cells": [
  {
   "cell_type": "markdown",
   "metadata": {},
   "source": [
    "# LaunchDarkly Percentage Rollout Simulator\n",
    "\n",
    "## Setup\n",
    "If you want to use all visualizations (including the Sankey diagram), install required dependencies:\n",
    "```bash\n",
    "pip install -r requirements.txt\n",
    "```"
   ]
  },
  {
   "cell_type": "code",
   "execution_count": 1,
   "metadata": {},
   "outputs": [],
   "source": [
    "import ldclient\n",
    "from ldclient import Context\n",
    "from ldclient.config import Config\n",
    "from faker import Faker\n",
    "from uuid import uuid4\n",
    "from faker.providers import DynamicProvider \n",
    "import time\n",
    "import random\n",
    "import pandas as pd\n",
    "import numpy as np\n",
    "import matplotlib.pyplot as plt\n",
    "import seaborn as sns\n",
    "\n",
    "# Optional imports for Sankey diagram\n",
    "try:\n",
    "    import plotly.graph_objects as go\n",
    "    PLOTLY_AVAILABLE = True\n",
    "except ImportError:\n",
    "    PLOTLY_AVAILABLE = False"
   ]
  },
  {
   "cell_type": "code",
   "execution_count": 2,
   "metadata": {},
   "outputs": [],
   "source": [
    "# Initialize LaunchDarkly client\n",
    "sdk_key = 'sdk-c6b1251d-06e7-4efd-9486-2c51570cc5d3'\n",
    "config = Config(sdk_key = sdk_key, http=ldclient.config.HTTPConfig(connect_timeout=5))\n",
    "ldclient.set_config(config)\n",
    "client = ldclient.get()"
   ]
  },
  {
   "cell_type": "code",
   "execution_count": 3,
   "metadata": {},
   "outputs": [],
   "source": [
    "def parse_string_to_dict(item):\n",
    "    clean_item = item.strip(\"()\")\n",
    "    key_value_pairs = clean_item.split(\", \")\n",
    "    parsed_dict = {}\n",
    "    for pair in key_value_pairs:\n",
    "        key, value = pair.split(\"=\")\n",
    "        parsed_dict[key.strip()] = value.strip()\n",
    "    return parsed_dict"
   ]
  },
  {
   "cell_type": "code",
   "execution_count": 4,
   "metadata": {},
   "outputs": [],
   "source": [
    "# Set up Faker providers\n",
    "brands_provider = DynamicProvider(\n",
    "    provider_name=\"brand\",\n",
    "    elements=[\"Admiral\", \"Diamond\", \"Elephant\", \"Toothbrush\", \"Biscuit\"],\n",
    ")\n",
    "\n",
    "product_provider = DynamicProvider(\n",
    "    provider_name=\"product\",\n",
    "    elements=[\"Car\", \"Home\", \"Motorcycle\", \"Renters\"],\n",
    ")\n",
    "\n",
    "price_provider = DynamicProvider(\n",
    "    provider_name=\"example_in_cart_price\",\n",
    "    elements=[93.84, 143.73, 101.35, 86.02, 46.91, 125.62, 77.85, 99.68, 73.99, 148.79],\n",
    ")\n",
    "\n",
    "tier_provider = DynamicProvider(\n",
    "    provider_name=\"tier\",\n",
    "    elements=[\"Bronze\", \"Silver\", \"Gold\"],\n",
    ")\n",
    "\n",
    "fake = Faker()\n",
    "fake.add_provider(brands_provider)\n",
    "fake.add_provider(price_provider)\n",
    "fake.add_provider(product_provider)\n",
    "fake.add_provider(tier_provider)"
   ]
  },
  {
   "cell_type": "code",
   "execution_count": 5,
   "metadata": {},
   "outputs": [],
   "source": [
    "# Generate test data\n",
    "num_records = 100\n",
    "fakeUserId2 = [fake.uuid4() for _ in range(num_records + 1)]\n",
    "user2Brand = [fake.brand() for _ in range(num_records + 1)]\n",
    "user2Price = [fake.example_in_cart_price() for _ in range(num_records + 1)]\n",
    "user2Product = [fake.product() for _ in range(num_records + 1)]\n",
    "user2Tier = [fake.tier() for _ in range(num_records + 1)]"
   ]
  },
  {
   "cell_type": "code",
   "execution_count": 6,
   "metadata": {},
   "outputs": [],
   "source": [
    "# First run\n",
    "run1 = []\n",
    "run1_control = []\n",
    "run1_treatment = []\n",
    "run1_keys = []\n",
    "\n",
    "for i in range(num_records + 1):\n",
    "    user2_context = Context.builder(fakeUserId2[i]).kind(\"user\").set(\"brand\", user2Brand[i]).set(\"product\", user2Product[i]).set(\"tier\", user2Tier[i]).build()\n",
    "    variation_detail = client.variation_detail(\"example-percentage-rollout-flag\", user2_context, 'false')\n",
    "    run1_keys.append(user2_context.key)\n",
    "    if (variation_detail.value == \"Control\"):\n",
    "        run1_control.append(user2_context.key)\n",
    "    else:\n",
    "        run1_treatment.append(user2_context.key)\n",
    "    time.sleep(0.01)\n",
    "    run1.append(variation_detail)"
   ]
  },
  {
   "cell_type": "markdown",
   "metadata": {},
   "source": [
    "### Change the percentage rollout in LaunchDarkly before running the next cell"
   ]
  },
  {
   "cell_type": "code",
   "execution_count": 7,
   "metadata": {},
   "outputs": [],
   "source": [
    "# Second run\n",
    "run2 = []\n",
    "run2_control = []\n",
    "run2_treatment = []\n",
    "run2_keys = []\n",
    "\n",
    "for i in range(num_records + 1):\n",
    "    user2_context = Context.builder(fakeUserId2[i]).kind(\"user\").set(\"brand\", user2Brand[i]).set(\"product\", user2Product[i]).set(\"tier\", user2Tier[i]).build()\n",
    "    variation_detail = client.variation_detail(\"example-percentage-rollout-flag\", user2_context, 'false')\n",
    "    run2_keys.append(user2_context.key)\n",
    "    if (variation_detail.value == \"Control\"):\n",
    "        run2_control.append(user2_context.key)\n",
    "    else:\n",
    "        run2_treatment.append(user2_context.key)\n",
    "    time.sleep(0.01)\n",
    "    run2.append(variation_detail)"
   ]
  },
  {
   "cell_type": "code",
   "execution_count": 8,
   "metadata": {},
   "outputs": [
    {
     "name": "stdout",
     "output_type": "stream",
     "text": [
      "Number of users that changed variations: 23\n"
     ]
    }
   ],
   "source": [
    "# Create DataFrames and analyze changes\n",
    "run1_parsed_data = [parse_string_to_dict(str(item)) for item in run1]\n",
    "run2_parsed_data = [parse_string_to_dict(str(item)) for item in run2]\n",
    "run1_df = pd.DataFrame(run1_parsed_data)\n",
    "run2_df = pd.DataFrame(run2_parsed_data)\n",
    "keys_df = pd.DataFrame(run1_keys, columns=['key'])\n",
    "run1_df['key'] = keys_df['key']\n",
    "run2_df['key'] = keys_df['key']\n",
    "result = pd.merge(run1_df, run2_df, on='key')\n",
    "\n",
    "# Find mismatches\n",
    "mismatch = result[result['value_x'] != result['value_y']]\n",
    "mismatchCount = len(mismatch)\n",
    "print(f\"Number of users that changed variations: {mismatchCount}\")"
   ]
  },
  {
   "cell_type": "code",
   "execution_count": 9,
   "metadata": {},
   "outputs": [
    {
     "data": {
      "text/plain": [
       "<Figure size 1200x600 with 0 Axes>"
      ]
     },
     "metadata": {},
     "output_type": "display_data"
    },
    {
     "data": {
      "image/png": "[encoded data removed]",
      "text/plain": [
       "<Figure size 640x480 with 1 Axes>"
      ]
     },
     "metadata": {},
     "output_type": "display_data"
    }
   ],
   "source": [
    "# Visualization 1: Distribution Comparison\n",
    "plt.figure(figsize=(12, 6))\n",
    "x = np.arange(2)\n",
    "width = 0.35\n",
    "\n",
    "fig, ax = plt.subplots()\n",
    "ax.bar(x - width/2, [len(run1_control), len(run1_treatment)], width, label='Run 1')\n",
    "ax.bar(x + width/2, [len(run2_control), len(run2_treatment)], width, label='Run 2')\n",
    "\n",
    "ax.set_ylabel('Number of Users')\n",
    "ax.set_title('Distribution of Users in Control vs Treatment')\n",
    "ax.set_xticks(x)\n",
    "ax.set_xticklabels(['Control', 'Treatment'])\n",
    "ax.legend()\n",
    "\n",
    "plt.show()"
   ]
  },
  {
   "cell_type": "code",
   "execution_count": 10,
   "metadata": {},
   "outputs": [
    {
     "data": {
      "image/png": "[encoded data removed]",
      "text/plain": [
       "<Figure size 1000x800 with 2 Axes>"
      ]
     },
     "metadata": {},
     "output_type": "display_data"
    },
    {
     "data": {
      "application/vnd.plotly.v1+json": {
       "config": {
        "plotlyServerURL": "https://plot.ly"
       },
       "data": [
        {
         "link": {
          "source": [
           0,
           1,
           1
          ],
          "target": [
           2,
           2,
           3
          ],
          "value": [
           26,
           23,
           52
          ]
         },
         "node": {
          "color": [
           "#1f77b4",
           "#ff7f0e",
           "#1f77b4",
           "#ff7f0e"
          ],
          "label": [
           "Control (Run 1)",
           "Treatment (Run 1)",
           "Control (Run 2)",
           "Treatment (Run 2)"
          ],
          "line": {
           "color": "black",
           "width": 0.5
          },
          "pad": 15,
          "thickness": 20
         },
         "type": "sankey"
        }
       ],
       "layout": {
        "font": {
         "size": 10
        },
        "template": {
         "data": {
          "bar": [
           {
            "error_x": {
             "color": "#2a3f5f"
            },
            "error_y": {
             "color": "#2a3f5f"
            },
            "marker": {
             "line": {
              "color": "#E5ECF6",
              "width": 0.5
             },
             "pattern": {
              "fillmode": "overlay",
              "size": 10,
              "solidity": 0.2
             }
            },
            "type": "bar"
           }
          ],
          "barpolar": [
           {
            "marker": {
             "line": {
              "color": "#E5ECF6",
              "width": 0.5
             },
             "pattern": {
              "fillmode": "overlay",
              "size": 10,
              "solidity": 0.2
             }
            },
            "type": "barpolar"
           }
          ],
          "carpet": [
           {
            "aaxis": {
             "endlinecolor": "#2a3f5f",
             "gridcolor": "white",
             "linecolor": "white",
             "minorgridcolor": "white",
             "startlinecolor": "#2a3f5f"
            },
            "baxis": {
             "endlinecolor": "#2a3f5f",
             "gridcolor": "white",
             "linecolor": "white",
             "minorgridcolor": "white",
             "startlinecolor": "#2a3f5f"
            },
            "type": "carpet"
           }
          ],
          "choropleth": [
           {
            "colorbar": {
             "outlinewidth": 0,
             "ticks": ""
            },
            "type": "choropleth"
           }
          ],
          "contour": [
           {
            "colorbar": {
             "outlinewidth": 0,
             "ticks": ""
            },
            "colorscale": [
             [
              0,
              "#0d0887"
             ],
             [
              0.1111111111111111,
              "#46039f"
             ],
             [
              0.2222222222222222,
              "#7201a8"
             ],
             [
              0.3333333333333333,
              "#9c179e"
             ],
             [
              0.4444444444444444,
              "#bd3786"
             ],
             [
              0.5555555555555556,
              "#d8576b"
             ],
             [
              0.6666666666666666,
              "#ed7953"
             ],
             [
              0.7777777777777778,
              "#fb9f3a"
             ],
             [
              0.8888888888888888,
              "#fdca26"
             ],
             [
              1,
              "#f0f921"
             ]
            ],
            "type": "contour"
           }
          ],
          "contourcarpet": [
           {
            "colorbar": {
             "outlinewidth": 0,
             "ticks": ""
            },
            "type": "contourcarpet"
           }
          ],
          "heatmap": [
           {
            "colorbar": {
             "outlinewidth": 0,
             "ticks": ""
            },
            "colorscale": [
             [
              0,
              "#0d0887"
             ],
             [
              0.1111111111111111,
              "#46039f"
             ],
             [
              0.2222222222222222,
              "#7201a8"
             ],
             [
              0.3333333333333333,
              "#9c179e"
             ],
             [
              0.4444444444444444,
              "#bd3786"
             ],
             [
              0.5555555555555556,
              "#d8576b"
             ],
             [
              0.6666666666666666,
              "#ed7953"
             ],
             [
              0.7777777777777778,
              "#fb9f3a"
             ],
             [
              0.8888888888888888,
              "#fdca26"
             ],
             [
              1,
              "#f0f921"
             ]
            ],
            "type": "heatmap"
           }
          ],
          "heatmapgl": [
           {
            "colorbar": {
             "outlinewidth": 0,
             "ticks": ""
            },
            "colorscale": [
             [
              0,
              "#0d0887"
             ],
             [
              0.1111111111111111,
              "#46039f"
             ],
             [
              0.2222222222222222,
              "#7201a8"
             ],
             [
              0.3333333333333333,
              "#9c179e"
             ],
             [
              0.4444444444444444,
              "#bd3786"
             ],
             [
              0.5555555555555556,
              "#d8576b"
             ],
             [
              0.6666666666666666,
              "#ed7953"
             ],
             [
              0.7777777777777778,
              "#fb9f3a"
             ],
             [
              0.8888888888888888,
              "#fdca26"
             ],
             [
              1,
              "#f0f921"
             ]
            ],
            "type": "heatmapgl"
           }
          ],
          "histogram": [
           {
            "marker": {
             "pattern": {
              "fillmode": "overlay",
              "size": 10,
              "solidity": 0.2
             }
            },
            "type": "histogram"
           }
          ],
          "histogram2d": [
           {
            "colorbar": {
             "outlinewidth": 0,
             "ticks": ""
            },
            "colorscale": [
             [
              0,
              "#0d0887"
             ],
             [
              0.1111111111111111,
              "#46039f"
             ],
             [
              0.2222222222222222,
              "#7201a8"
             ],
             [
              0.3333333333333333,
              "#9c179e"
             ],
             [
              0.4444444444444444,
              "#bd3786"
             ],
             [
              0.5555555555555556,
              "#d8576b"
             ],
             [
              0.6666666666666666,
              "#ed7953"
             ],
             [
              0.7777777777777778,
              "#fb9f3a"
             ],
             [
              0.8888888888888888,
              "#fdca26"
             ],
             [
              1,
              "#f0f921"
             ]
            ],
            "type": "histogram2d"
           }
          ],
          "histogram2dcontour": [
           {
            "colorbar": {
             "outlinewidth": 0,
             "ticks": ""
            },
            "colorscale": [
             [
              0,
              "#0d0887"
             ],
             [
              0.1111111111111111,
              "#46039f"
             ],
             [
              0.2222222222222222,
              "#7201a8"
             ],
             [
              0.3333333333333333,
              "#9c179e"
             ],
             [
              0.4444444444444444,
              "#bd3786"
             ],
             [
              0.5555555555555556,
              "#d8576b"
             ],
             [
              0.6666666666666666,
              "#ed7953"
             ],
             [
              0.7777777777777778,
              "#fb9f3a"
             ],
             [
              0.8888888888888888,
              "#fdca26"
             ],
             [
              1,
              "#f0f921"
             ]
            ],
            "type": "histogram2dcontour"
           }
          ],
          "mesh3d": [
           {
            "colorbar": {
             "outlinewidth": 0,
             "ticks": ""
            },
            "type": "mesh3d"
           }
          ],
          "parcoords": [
           {
            "line": {
             "colorbar": {
              "outlinewidth": 0,
              "ticks": ""
             }
            },
            "type": "parcoords"
           }
          ],
          "pie": [
           {
            "automargin": true,
            "type": "pie"
           }
          ],
          "scatter": [
           {
            "fillpattern": {
             "fillmode": "overlay",
             "size": 10,
             "solidity": 0.2
            },
            "type": "scatter"
           }
          ],
          "scatter3d": [
           {
            "line": {
             "colorbar": {
              "outlinewidth": 0,
              "ticks": ""
             }
            },
            "marker": {
             "colorbar": {
              "outlinewidth": 0,
              "ticks": ""
             }
            },
            "type": "scatter3d"
           }
          ],
          "scattercarpet": [
           {
            "marker": {
             "colorbar": {
              "outlinewidth": 0,
              "ticks": ""
             }
            },
            "type": "scattercarpet"
           }
          ],
          "scattergeo": [
           {
            "marker": {
             "colorbar": {
              "outlinewidth": 0,
              "ticks": ""
             }
            },
            "type": "scattergeo"
           }
          ],
          "scattergl": [
           {
            "marker": {
             "colorbar": {
              "outlinewidth": 0,
              "ticks": ""
             }
            },
            "type": "scattergl"
           }
          ],
          "scattermapbox": [
           {
            "marker": {
             "colorbar": {
              "outlinewidth": 0,
              "ticks": ""
             }
            },
            "type": "scattermapbox"
           }
          ],
          "scatterpolar": [
           {
            "marker": {
             "colorbar": {
              "outlinewidth": 0,
              "ticks": ""
             }
            },
            "type": "scatterpolar"
           }
          ],
          "scatterpolargl": [
           {
            "marker": {
             "colorbar": {
              "outlinewidth": 0,
              "ticks": ""
             }
            },
            "type": "scatterpolargl"
           }
          ],
          "scatterternary": [
           {
            "marker": {
             "colorbar": {
              "outlinewidth": 0,
              "ticks": ""
             }
            },
            "type": "scatterternary"
           }
          ],
          "surface": [
           {
            "colorbar": {
             "outlinewidth": 0,
             "ticks": ""
            },
            "colorscale": [
             [
              0,
              "#0d0887"
             ],
             [
              0.1111111111111111,
              "#46039f"
             ],
             [
              0.2222222222222222,
              "#7201a8"
             ],
             [
              0.3333333333333333,
              "#9c179e"
             ],
             [
              0.4444444444444444,
              "#bd3786"
             ],
             [
              0.5555555555555556,
              "#d8576b"
             ],
             [
              0.6666666666666666,
              "#ed7953"
             ],
             [
              0.7777777777777778,
              "#fb9f3a"
             ],
             [
              0.8888888888888888,
              "#fdca26"
             ],
             [
              1,
              "#f0f921"
             ]
            ],
            "type": "surface"
           }
          ],
          "table": [
           {
            "cells": {
             "fill": {
              "color": "#EBF0F8"
             },
             "line": {
              "color": "white"
             }
            },
            "header": {
             "fill": {
              "color": "#C8D4E3"
             },
             "line": {
              "color": "white"
             }
            },
            "type": "table"
           }
          ]
         },
         "layout": {
          "annotationdefaults": {
           "arrowcolor": "#2a3f5f",
           "arrowhead": 0,
           "arrowwidth": 1
          },
          "autotypenumbers": "strict",
          "coloraxis": {
           "colorbar": {
            "outlinewidth": 0,
            "ticks": ""
           }
          },
          "colorscale": {
           "diverging": [
            [
             0,
             "#8e0152"
            ],
            [
             0.1,
             "#c51b7d"
            ],
            [
             0.2,
             "#de77ae"
            ],
            [
             0.3,
             "#f1b6da"
            ],
            [
             0.4,
             "#fde0ef"
            ],
            [
             0.5,
             "#f7f7f7"
            ],
            [
             0.6,
             "#e6f5d0"
            ],
            [
             0.7,
             "#b8e186"
            ],
            [
             0.8,
             "#7fbc41"
            ],
            [
             0.9,
             "#4d9221"
            ],
            [
             1,
             "#276419"
            ]
           ],
           "sequential": [
            [
             0,
             "#0d0887"
            ],
            [
             0.1111111111111111,
             "#46039f"
            ],
            [
             0.2222222222222222,
             "#7201a8"
            ],
            [
             0.3333333333333333,
             "#9c179e"
            ],
            [
             0.4444444444444444,
             "#bd3786"
            ],
            [
             0.5555555555555556,
             "#d8576b"
            ],
            [
             0.6666666666666666,
             "#ed7953"
            ],
            [
             0.7777777777777778,
             "#fb9f3a"
            ],
            [
             0.8888888888888888,
             "#fdca26"
            ],
            [
             1,
             "#f0f921"
            ]
           ],
           "sequentialminus": [
            [
             0,
             "#0d0887"
            ],
            [
             0.1111111111111111,
             "#46039f"
            ],
            [
             0.2222222222222222,
             "#7201a8"
            ],
            [
             0.3333333333333333,
             "#9c179e"
            ],
            [
             0.4444444444444444,
             "#bd3786"
            ],
            [
             0.5555555555555556,
             "#d8576b"
            ],
            [
             0.6666666666666666,
             "#ed7953"
            ],
            [
             0.7777777777777778,
             "#fb9f3a"
            ],
            [
             0.8888888888888888,
             "#fdca26"
            ],
            [
             1,
             "#f0f921"
            ]
           ]
          },
          "colorway": [
           "#636efa",
           "#EF553B",
           "#00cc96",
           "#ab63fa",
           "#FFA15A",
           "#19d3f3",
           "#FF6692",
           "#B6E880",
           "#FF97FF",
           "#FECB52"
          ],
          "font": {
           "color": "#2a3f5f"
          },
          "geo": {
           "bgcolor": "white",
           "lakecolor": "white",
           "landcolor": "#E5ECF6",
           "showlakes": true,
           "showland": true,
           "subunitcolor": "white"
          },
          "hoverlabel": {
           "align": "left"
          },
          "hovermode": "closest",
          "mapbox": {
           "style": "light"
          },
          "paper_bgcolor": "white",
          "plot_bgcolor": "#E5ECF6",
          "polar": {
           "angularaxis": {
            "gridcolor": "white",
            "linecolor": "white",
            "ticks": ""
           },
           "bgcolor": "#E5ECF6",
           "radialaxis": {
            "gridcolor": "white",
            "linecolor": "white",
            "ticks": ""
           }
          },
          "scene": {
           "xaxis": {
            "backgroundcolor": "#E5ECF6",
            "gridcolor": "white",
            "gridwidth": 2,
            "linecolor": "white",
            "showbackground": true,
            "ticks": "",
            "zerolinecolor": "white"
           },
           "yaxis": {
            "backgroundcolor": "#E5ECF6",
            "gridcolor": "white",
            "gridwidth": 2,
            "linecolor": "white",
            "showbackground": true,
            "ticks": "",
            "zerolinecolor": "white"
           },
           "zaxis": {
            "backgroundcolor": "#E5ECF6",
            "gridcolor": "white",
            "gridwidth": 2,
            "linecolor": "white",
            "showbackground": true,
            "ticks": "",
            "zerolinecolor": "white"
           }
          },
          "shapedefaults": {
           "line": {
            "color": "#2a3f5f"
           }
          },
          "ternary": {
           "aaxis": {
            "gridcolor": "white",
            "linecolor": "white",
            "ticks": ""
           },
           "baxis": {
            "gridcolor": "white",
            "linecolor": "white",
            "ticks": ""
           },
           "bgcolor": "#E5ECF6",
           "caxis": {
            "gridcolor": "white",
            "linecolor": "white",
            "ticks": ""
           }
          },
          "title": {
           "x": 0.05
          },
          "xaxis": {
           "automargin": true,
           "gridcolor": "white",
           "linecolor": "white",
           "ticks": "",
           "title": {
            "standoff": 15
           },
           "zerolinecolor": "white",
           "zerolinewidth": 2
          },
          "yaxis": {
           "automargin": true,
           "gridcolor": "white",
           "linecolor": "white",
           "ticks": "",
           "title": {
            "standoff": 15
           },
           "zerolinecolor": "white",
           "zerolinewidth": 2
          }
         }
        },
        "title": {
         "text": "User Flow Between Variations"
        }
       }
      }
     },
     "metadata": {},
     "output_type": "display_data"
    }
   ],
   "source": [
    "# Visualization 2: Transition Matrix Heatmap\n",
    "transition_matrix = pd.crosstab(result['value_x'], result['value_y'])\n",
    "\n",
    "plt.figure(figsize=(10, 8))\n",
    "sns.heatmap(transition_matrix, annot=True, fmt='d', cmap='YlOrRd')\n",
    "plt.title('User Transition Matrix')\n",
    "plt.xlabel('Final State (Run 2)')\n",
    "plt.ylabel('Initial State (Run 1)')\n",
    "plt.show()\n",
    "\n",
    "# Optional Sankey diagram if plotly is available\n",
    "if PLOTLY_AVAILABLE:\n",
    "    label_mapping = {'Control': 0, 'Treatment': 1}\n",
    "    source = []\n",
    "    target = []\n",
    "    value = []\n",
    "\n",
    "    for old_var in ['Control', 'Treatment']:\n",
    "        for new_var in ['Control', 'Treatment']:\n",
    "            count = len(result[(result['value_x'] == old_var) & (result['value_y'] == new_var)])\n",
    "            if count > 0:\n",
    "                source.append(label_mapping[old_var])\n",
    "                target.append(label_mapping[new_var] + 2)\n",
    "                value.append(count)\n",
    "\n",
    "    fig = go.Figure(data=[go.Sankey(\n",
    "        node = dict(\n",
    "            pad = 15,\n",
    "            thickness = 20,\n",
    "            line = dict(color = \"black\", width = 0.5),\n",
    "            label = [\"Control (Run 1)\", \"Treatment (Run 1)\", \n",
    "                    \"Control (Run 2)\", \"Treatment (Run 2)\"],\n",
    "            color = [\"#1f77b4\", \"#ff7f0e\", \"#1f77b4\", \"#ff7f0e\"]\n",
    "        ),\n",
    "        link = dict(\n",
    "            source = source,\n",
    "            target = target,\n",
    "            value = value\n",
    "        )\n",
    "    )])\n",
    "\n",
    "    fig.update_layout(title_text=\"User Flow Between Variations\", font_size=10)\n",
    "    fig.show()"
   ]
  },
  {
   "cell_type": "code",
   "execution_count": 11,
   "metadata": {},
   "outputs": [
    {
     "data": {
      "image/png": "[encoded data removed]",
      "text/plain": [
       "<Figure size 800x800 with 1 Axes>"
      ]
     },
     "metadata": {},
     "output_type": "display_data"
    },
    {
     "name": "stdout",
     "output_type": "stream",
     "text": [
      "\n",
      "Detailed view of users that changed variations:\n",
      "                                     key    value_x  value_y\n",
      "5   fb0bd7dc-e91f-486e-93f9-21bef52eab1c  Treatment  Control\n",
      "6   8934d42e-f630-4be5-a488-67d6cc9a1c95  Treatment  Control\n",
      "14  fb68ba3f-34cc-40a0-ae18-c793275c97d4  Treatment  Control\n",
      "16  dcb1e945-fc0d-4415-bf34-e0bab3a17313  Treatment  Control\n",
      "23  44cccf8b-f3a4-47a9-bd8a-12ac1a653760  Treatment  Control\n",
      "26  839a2a38-99d1-4127-a6f7-87f718c4253b  Treatment  Control\n",
      "32  8475c913-b0ba-4764-9e29-7fcb79afac3f  Treatment  Control\n",
      "40  8c0db700-0687-4795-aeb2-7c6c72e25268  Treatment  Control\n",
      "42  db1bc09d-000f-42ae-a40c-f09a0c046607  Treatment  Control\n",
      "44  19112843-4f36-4da3-a017-25c415634234  Treatment  Control\n",
      "51  fe7eb690-9a45-4439-990b-c85f4084f6ec  Treatment  Control\n",
      "52  2d7200de-eb42-44d6-af46-66471c410446  Treatment  Control\n",
      "56  12f4fafc-0fa7-4865-831f-26a85ff0e890  Treatment  Control\n",
      "58  0fd0bfc5-2d62-41f6-aed1-389971acb09e  Treatment  Control\n",
      "67  7baef44d-2fbf-4620-9bd3-99efee3bb940  Treatment  Control\n",
      "70  fbee0b48-f1af-4837-bd6a-3369a371b4b0  Treatment  Control\n",
      "73  de468833-fabb-4b46-9180-38ee5833a1af  Treatment  Control\n",
      "79  4428a99a-a4d0-4b81-bcb9-e3c4b53df163  Treatment  Control\n",
      "83  2ed8a8b2-cd83-4d15-8404-5d8aa8b2f642  Treatment  Control\n",
      "86  8286dd83-d757-4b53-bda7-902a9a641f57  Treatment  Control\n",
      "91  439507f3-7e5d-40f2-97ff-461fdadbd01a  Treatment  Control\n",
      "93  e2f29b38-533d-469f-babd-397e24878695  Treatment  Control\n",
      "95  a2a98567-d339-4096-8b2b-f775e90e6614  Treatment  Control\n"
     ]
    }
   ],
   "source": [
    "# Visualization 3: Change Summary Pie Chart\n",
    "plt.figure(figsize=(8, 8))\n",
    "labels = ['Changed', 'Unchanged']\n",
    "sizes = [mismatchCount, num_records + 1 - mismatchCount]\n",
    "colors = ['#ff9999', '#66b3ff']\n",
    "\n",
    "plt.pie(sizes, labels=labels, colors=colors, autopct='%1.1f%%', startangle=90)\n",
    "plt.axis('equal')\n",
    "plt.title('Percentage of Users That Changed Variations')\n",
    "plt.show()\n",
    "\n",
    "# Display detailed mismatch information\n",
    "print(\"\\nDetailed view of users that changed variations:\")\n",
    "print(mismatch[['key', 'value_x', 'value_y']])"
   ]
  }
 ],
 "metadata": {
  "kernelspec": {
   "display_name": "Python 3",
   "language": "python",
   "name": "python3"
  },
  "language_info": {
   "codemirror_mode": {
    "name": "ipython",
    "version": 3
   },
   "file_extension": ".py",
   "mimetype": "text/x-python",
   "name": "python",
   "nbconvert_exporter": "python",
   "pygments_lexer": "ipython3",
   "version": "3.9.6"
  }
 },
 "nbformat": 4,
 "nbformat_minor": 4
}
